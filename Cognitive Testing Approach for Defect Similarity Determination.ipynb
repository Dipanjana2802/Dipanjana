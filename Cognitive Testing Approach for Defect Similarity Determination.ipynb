{
 "cells": [
  {
   "cell_type": "code",
   "execution_count": 6,
   "metadata": {},
   "outputs": [],
   "source": [
    "import re\n",
    "import numpy as np\n",
    "import pandas as pd\n",
    "import nltk\n",
    "from nltk.corpus import stopwords\n",
    "import string\n",
    "import gensim\n",
    "from gensim.models import word2vec\n",
    "from scipy import spatial\n",
    "\n",
    "ps = nltk.PorterStemmer()\n",
    "path = '/home/dipanjana/Documents/Dipanjana_Git_Repository/'\n",
    "\n",
    "train = pd.read_csv(path+'training_data.csv').fillna(\"\")"
   ]
  },
  {
   "cell_type": "code",
   "execution_count": 7,
   "metadata": {},
   "outputs": [
    {
     "data": {
      "text/html": [
       "<div>\n",
       "<style scoped>\n",
       "    .dataframe tbody tr th:only-of-type {\n",
       "        vertical-align: middle;\n",
       "    }\n",
       "\n",
       "    .dataframe tbody tr th {\n",
       "        vertical-align: top;\n",
       "    }\n",
       "\n",
       "    .dataframe thead th {\n",
       "        text-align: right;\n",
       "    }\n",
       "</style>\n",
       "<table border=\"1\" class=\"dataframe\">\n",
       "  <thead>\n",
       "    <tr style=\"text-align: right;\">\n",
       "      <th></th>\n",
       "      <th>id</th>\n",
       "      <th>defect_description</th>\n",
       "    </tr>\n",
       "  </thead>\n",
       "  <tbody>\n",
       "    <tr>\n",
       "      <th>0</th>\n",
       "      <td>1</td>\n",
       "      <td>What is the story of Kohinoor (Koh-i-Noor) Dia...</td>\n",
       "    </tr>\n",
       "    <tr>\n",
       "      <th>1</th>\n",
       "      <td>2</td>\n",
       "      <td>How can I increase the speed of my internet co...</td>\n",
       "    </tr>\n",
       "    <tr>\n",
       "      <th>2</th>\n",
       "      <td>3</td>\n",
       "      <td>Why am I mentally very lonely? How can I solve...</td>\n",
       "    </tr>\n",
       "    <tr>\n",
       "      <th>3</th>\n",
       "      <td>4</td>\n",
       "      <td>Which one dissolve in water quikly sugar, salt...</td>\n",
       "    </tr>\n",
       "    <tr>\n",
       "      <th>4</th>\n",
       "      <td>5</td>\n",
       "      <td>Astrology: I am a Capricorn Sun Cap moon and c...</td>\n",
       "    </tr>\n",
       "  </tbody>\n",
       "</table>\n",
       "</div>"
      ],
      "text/plain": [
       "   id                                 defect_description\n",
       "0   1  What is the story of Kohinoor (Koh-i-Noor) Dia...\n",
       "1   2  How can I increase the speed of my internet co...\n",
       "2   3  Why am I mentally very lonely? How can I solve...\n",
       "3   4  Which one dissolve in water quikly sugar, salt...\n",
       "4   5  Astrology: I am a Capricorn Sun Cap moon and c..."
      ]
     },
     "execution_count": 7,
     "metadata": {},
     "output_type": "execute_result"
    }
   ],
   "source": [
    "train.head()"
   ]
  },
  {
   "cell_type": "code",
   "execution_count": 9,
   "metadata": {},
   "outputs": [
    {
     "name": "stdout",
     "output_type": "stream",
     "text": [
      "shape of training dataset :  (49998, 2)\n",
      "Checking for null value in training data set:\n",
      "id                    0\n",
      "defect_description    0\n",
      "dtype: int64\n",
      "<class 'pandas.core.frame.DataFrame'>\n",
      "RangeIndex: 49998 entries, 0 to 49997\n",
      "Data columns (total 2 columns):\n",
      "id                    49998 non-null int64\n",
      "defect_description    49998 non-null object\n",
      "dtypes: int64(1), object(1)\n",
      "memory usage: 781.3+ KB\n"
     ]
    }
   ],
   "source": [
    "#Data Inspection\n",
    "\n",
    "print('shape of training dataset : ',train.shape)\n",
    "print('Checking for null value in training data set:')\n",
    "print(train.isnull().sum())\n",
    "train.info()"
   ]
  },
  {
   "cell_type": "code",
   "execution_count": 12,
   "metadata": {},
   "outputs": [],
   "source": [
    "train_raw = train['defect_description']\n",
    "#stop words\n",
    "stop_words = stopwords.words('english')\n",
    "#special characters\n",
    "spl_chr = string.punctuation"
   ]
  },
  {
   "cell_type": "code",
   "execution_count": 46,
   "metadata": {},
   "outputs": [],
   "source": [
    "#cleaning, stemming and tokenising\n",
    "def clean_text(text):\n",
    "    no_spl_chr = \"\".join([char.lower() for char in text if char not in spl_chr])\n",
    "    tokens = no_spl_chr.split(\" \")\n",
    "    clean_text = [ps.stem(word) for word in tokens if word not in stop_words if word !='']\n",
    "    return clean_text\n",
    "\n",
    "train_clean = train_raw.apply(lambda x : clean_text(x))"
   ]
  },
  {
   "cell_type": "code",
   "execution_count": null,
   "metadata": {},
   "outputs": [],
   "source": [
    "'''\n",
    "Using word2vec model in gensim package to calculate the similarity between 2 words \n",
    "We need to calculate the average vector value for all the vectorised words in every sentence/document \n",
    "and use cosine similarity between avg vectors to determine document similarity\n",
    "'''"
   ]
  },
  {
   "cell_type": "code",
   "execution_count": 17,
   "metadata": {},
   "outputs": [
    {
     "data": {
      "text/plain": [
       "array([-1.2979914e-02,  3.6535244e-03, -2.6734071e-02, -4.3921307e-02,\n",
       "       -2.0588426e-02,  2.0644244e-02, -4.2259563e-03,  1.4028470e-02,\n",
       "        7.1124262e-03, -3.8279958e-02,  3.9743118e-02, -2.6937695e-02,\n",
       "       -3.3586498e-02,  5.3166691e-03,  2.3543868e-02, -1.4319889e-02,\n",
       "        4.9857190e-03,  3.7123801e-03, -7.9219015e-03,  1.0900964e-02,\n",
       "       -9.1656521e-03, -2.5135420e-02,  3.3531435e-02,  6.6316091e-02,\n",
       "       -1.6770314e-02, -8.8263005e-03,  3.5897262e-02, -1.2258850e-02,\n",
       "        8.0916481e-03,  2.3369579e-02, -4.0296111e-02, -2.5278654e-02,\n",
       "       -4.2867428e-03, -8.9658480e-03, -1.0313519e-02, -1.4585562e-02,\n",
       "        2.0847188e-02, -2.4467865e-02, -1.8593414e-02, -2.5726909e-02,\n",
       "        1.6120546e-03, -3.1268984e-02, -1.6398558e-02,  7.0673353e-03,\n",
       "        2.0153495e-02, -2.3621753e-02,  4.0305022e-06, -4.5272581e-02,\n",
       "       -1.5752541e-02,  6.4998108e-04, -4.3788143e-03, -8.8469619e-03,\n",
       "        3.4244299e-02,  7.9168864e-03,  4.8053269e-03, -2.0750981e-02,\n",
       "       -4.2578276e-02, -2.5187319e-02, -1.5120318e-02,  8.1368759e-03,\n",
       "        1.5445734e-02,  2.9133921e-02,  9.2072822e-03,  2.0181288e-03,\n",
       "       -1.2676830e-02,  4.8623584e-02,  2.9471636e-02, -2.2539324e-03,\n",
       "       -2.1109095e-02, -4.2798552e-03, -2.2593496e-02, -1.3803801e-02,\n",
       "        2.4087952e-02,  6.1917412e-03, -4.1584887e-02,  1.1209641e-02,\n",
       "        1.1924103e-02,  1.7209856e-02,  3.2791249e-02, -4.3941196e-03,\n",
       "       -1.1547527e-02, -2.9971305e-02,  3.0772628e-02, -5.7978332e-03,\n",
       "       -5.7521565e-03, -2.5827989e-02,  4.2658206e-03,  3.2816712e-02,\n",
       "        1.2965045e-02, -2.2200419e-02,  5.8911564e-03,  1.1618860e-02,\n",
       "        1.4107517e-02, -2.6337355e-02,  8.9803254e-03, -5.9085485e-02,\n",
       "       -2.2411473e-02, -3.2733914e-02,  2.5784925e-02,  1.4371410e-02],\n",
       "      dtype=float32)"
      ]
     },
     "execution_count": 17,
     "metadata": {},
     "output_type": "execute_result"
    }
   ],
   "source": [
    "#Creation of word2vector model and training the model with tokenised and cleansed training dataset\n",
    "model = word2vec.Word2Vec(train_clean, size=100, window=20, min_count=1, workers=4)\n",
    "\n",
    "#Explanation of the parameters used in the constructor:\n",
    "\n",
    "#size: (default 100) The number of dimensions of the embedding, e.g. the length of the dense vector to \n",
    "#represent each token (word).\n",
    "#window: (default 5) The maximum distance between a target word and words around the target word.\n",
    "#min_count: (default 5) The minimum count of words to consider when training the model; words with \n",
    "#an occurrence less than this count will be ignored.\n",
    "#workers: (default 3) The number of threads to use while training.\n",
    "\n",
    "#vector representation of one of the words from the training dataset:\n",
    "model.wv['kohinoor']"
   ]
  },
  {
   "cell_type": "code",
   "execution_count": 16,
   "metadata": {},
   "outputs": [],
   "source": [
    "#index2word (list of str) – Words which correspond to the matrix.\n",
    "index2word_set = set(model.wv.index2word)\n"
   ]
  },
  {
   "cell_type": "code",
   "execution_count": 22,
   "metadata": {},
   "outputs": [],
   "source": [
    "#Calculate the average vector for all vectorised words in every sentence(defect description)\n",
    "\n",
    "def avg_feature_vector(defect_description):\n",
    "    num_features = 100\n",
    "    feature_vec = np.zeros((num_features, ), dtype='float32')\n",
    "    n_words = 0\n",
    "    for word in defect_description:\n",
    "        if word in index2word_set:\n",
    "            n_words += 1\n",
    "            feature_vec = np.add(feature_vec, model[word])\n",
    "    if (n_words > 0):\n",
    "        feature_vec = np.divide(feature_vec, n_words)\n",
    "\n",
    "    return feature_vec"
   ]
  },
  {
   "cell_type": "code",
   "execution_count": 25,
   "metadata": {},
   "outputs": [
    {
     "name": "stderr",
     "output_type": "stream",
     "text": [
      "/opt/anaconda/lib/python3.6/site-packages/ipykernel_launcher.py:10: DeprecationWarning: Call to deprecated `__getitem__` (Method will be removed in 4.0.0, use self.wv.__getitem__() instead).\n",
      "  # Remove the CWD from sys.path while we load stuff.\n"
     ]
    },
    {
     "data": {
      "text/plain": [
       "array([-0.32169887, -0.42934778, -0.21104205, -0.94115084,  0.2524186 ,\n",
       "        0.19168007, -0.39490113,  0.13663305,  0.18983187, -0.90659934,\n",
       "        0.58220816, -0.36028877, -0.7388689 ,  0.25014699,  0.31152955,\n",
       "       -0.59569365, -0.4889638 ,  0.2954696 , -0.15302956,  0.55329806,\n",
       "        0.15990186,  0.08576676,  0.355172  ,  1.3518986 ,  0.12727593,\n",
       "       -0.1271322 ,  0.41205275, -0.08829061,  0.06324824,  0.47234502,\n",
       "       -0.97016877, -0.29790625, -0.02492273, -0.2606108 ,  0.14869156,\n",
       "       -0.22109549,  0.18118125, -0.71295744, -0.49990085, -0.27533206,\n",
       "       -0.4603301 , -0.17204958, -0.12790307,  0.18196237,  0.66885024,\n",
       "       -0.59423625, -0.05547282, -0.5713847 , -0.05537507,  0.24995409,\n",
       "       -0.4522774 , -0.09272481,  0.10080782,  0.46552718, -0.27209938,\n",
       "       -0.34714973, -0.52180874, -0.28591922, -0.09429691, -0.1925682 ,\n",
       "        0.0106052 , -0.24283779, -0.01261541,  0.00217813,  0.00761269,\n",
       "        0.7614805 ,  0.23104717, -0.17226474,  0.01187406, -0.03834601,\n",
       "       -0.11190841, -0.37543356,  0.20615818,  0.12950961, -0.85653114,\n",
       "        0.09497977,  0.55721295,  0.01700591,  0.57829815, -0.14612208,\n",
       "       -0.1982617 , -0.8010199 ,  0.954978  ,  0.48857772,  0.25733986,\n",
       "       -0.3000028 ,  0.02374468,  0.5959223 , -0.17534333, -0.79672384,\n",
       "        0.2548413 ,  0.41032135, -0.00606885, -0.67807484,  0.5155479 ,\n",
       "       -0.5308167 , -0.2050427 , -0.73604876,  0.33017442, -0.22771145],\n",
       "      dtype=float32)"
      ]
     },
     "execution_count": 25,
     "metadata": {},
     "output_type": "execute_result"
    }
   ],
   "source": [
    "avg_feature_vector(train_clean[1])"
   ]
  },
  {
   "cell_type": "code",
   "execution_count": 26,
   "metadata": {},
   "outputs": [
    {
     "name": "stderr",
     "output_type": "stream",
     "text": [
      "/opt/anaconda/lib/python3.6/site-packages/ipykernel_launcher.py:10: DeprecationWarning: Call to deprecated `__getitem__` (Method will be removed in 4.0.0, use self.wv.__getitem__() instead).\n",
      "  # Remove the CWD from sys.path while we load stuff.\n"
     ]
    }
   ],
   "source": [
    "#Creating a list of vectorised defect descriptions for all the records of the training set\n",
    "\n",
    "vectorised_description_list = train_clean.apply(lambda x : avg_feature_vector(x))\n"
   ]
  },
  {
   "cell_type": "code",
   "execution_count": 70,
   "metadata": {},
   "outputs": [],
   "source": [
    "#Function to calculate similarity between existing defects and the new defect and \n",
    "#return top 5 similarity values with corresponding defect id(defect id = train['id'])\n",
    "\n",
    "def similar_defects(new_defect):\n",
    "    #cleaning and tokenising new defect\n",
    "    cleaned = clean_text(new_defect)\n",
    "    \n",
    "    #vectorising tokenised defect\n",
    "    vectorised_new = avg_feature_vector(cleaned)\n",
    "    \n",
    "    similarity_score = []\n",
    "    similarity_score = [(1 - spatial.distance.cosine(entry, vectorised_new)) for entry in vectorised_description_list]\n",
    "    #Note: formula used by the cosine function of the spatial class of scipy is (1 - cosine similarity thus the above tweak)\n",
    "        \n",
    "    #Dataframe containing ids of existing defects and similarity score against the new defect\n",
    "    df_similarity = pd.DataFrame(similarity_score, index=train['id'], columns=['similarity score'])\n",
    "    \n",
    "    #Sorting result as per similarity score and outputing top 5 most similar defect ids\n",
    "    sorted_df = df_similarity.sort_values(by='similarity score', ascending = False)\n",
    "    \n",
    "    return sorted_df[:5]\n",
    "\n"
   ]
  },
  {
   "cell_type": "code",
   "execution_count": null,
   "metadata": {},
   "outputs": [],
   "source": []
  },
  {
   "cell_type": "code",
   "execution_count": null,
   "metadata": {},
   "outputs": [],
   "source": []
  },
  {
   "cell_type": "code",
   "execution_count": null,
   "metadata": {},
   "outputs": [],
   "source": []
  },
  {
   "cell_type": "code",
   "execution_count": null,
   "metadata": {},
   "outputs": [],
   "source": []
  }
 ],
 "metadata": {
  "kernelspec": {
   "display_name": "Python 3",
   "language": "python",
   "name": "python3"
  },
  "language_info": {
   "codemirror_mode": {
    "name": "ipython",
    "version": 3
   },
   "file_extension": ".py",
   "mimetype": "text/x-python",
   "name": "python",
   "nbconvert_exporter": "python",
   "pygments_lexer": "ipython3",
   "version": "3.6.5"
  }
 },
 "nbformat": 4,
 "nbformat_minor": 2
}
